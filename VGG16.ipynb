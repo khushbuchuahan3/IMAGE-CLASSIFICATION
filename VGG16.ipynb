{
  "nbformat": 4,
  "nbformat_minor": 0,
  "metadata": {
    "colab": {
      "name": "VGG16.ipynb",
      "provenance": [],
      "authorship_tag": "ABX9TyMo1DGdvuvN+V45yZMavQEJ",
      "include_colab_link": true
    },
    "kernelspec": {
      "name": "python3",
      "display_name": "Python 3"
    },
    "language_info": {
      "name": "python"
    },
    "accelerator": "GPU"
  },
  "cells": [
    {
      "cell_type": "markdown",
      "metadata": {
        "id": "view-in-github",
        "colab_type": "text"
      },
      "source": [
        "<a href=\"https://colab.research.google.com/github/khushbuchuahan3/IMAGE-CLASSIFICATION/blob/main/VGG16.ipynb\" target=\"_parent\"><img src=\"https://colab.research.google.com/assets/colab-badge.svg\" alt=\"Open In Colab\"/></a>"
      ]
    },
    {
      "cell_type": "code",
      "execution_count": null,
      "metadata": {
        "id": "H-_fSByHtuH9"
      },
      "outputs": [],
      "source": [
        ""
      ]
    },
    {
      "cell_type": "markdown",
      "source": [
        "##Import Libraries and Data Set"
      ],
      "metadata": {
        "id": "PwSuicb-txpZ"
      }
    },
    {
      "cell_type": "markdown",
      "source": [
        ""
      ],
      "metadata": {
        "id": "jGBRq6oSBilg"
      }
    },
    {
      "cell_type": "code",
      "source": [
        "from tensorflow import keras\n",
        "import tensorflow as tf"
      ],
      "metadata": {
        "id": "q0IxRmFft6Vc"
      },
      "execution_count": 4,
      "outputs": []
    },
    {
      "cell_type": "code",
      "source": [
        "model=keras.applications.VGG16( include_top=True,\n",
        "                             weights=\"imagenet\",\n",
        "                             input_tensor=None,\n",
        "                             input_shape=None,\n",
        "                             pooling=None,\n",
        "                             classes=1000,\n",
        "                             classifier_activation=\"softmax\",\n",
        "                             )\n"
      ],
      "metadata": {
        "colab": {
          "base_uri": "https://localhost:8080/"
        },
        "id": "WKU8eYJouHZE",
        "outputId": "789d7697-d301-4e59-960d-b5c1a5431a25"
      },
      "execution_count": 5,
      "outputs": [
        {
          "output_type": "stream",
          "name": "stdout",
          "text": [
            "Downloading data from https://storage.googleapis.com/tensorflow/keras-applications/vgg16/vgg16_weights_tf_dim_ordering_tf_kernels.h5\n",
            "553467904/553467096 [==============================] - 4s 0us/step\n",
            "553476096/553467096 [==============================] - 4s 0us/step\n"
          ]
        }
      ]
    },
    {
      "cell_type": "code",
      "source": [
        "model.summary()"
      ],
      "metadata": {
        "colab": {
          "base_uri": "https://localhost:8080/"
        },
        "id": "d6AEBB0Zu0pL",
        "outputId": "ab00aef4-8cb4-4b05-8447-4f685b0df473"
      },
      "execution_count": 7,
      "outputs": [
        {
          "output_type": "stream",
          "name": "stdout",
          "text": [
            "Model: \"vgg16\"\n",
            "_________________________________________________________________\n",
            " Layer (type)                Output Shape              Param #   \n",
            "=================================================================\n",
            " input_2 (InputLayer)        [(None, 224, 224, 3)]     0         \n",
            "                                                                 \n",
            " block1_conv1 (Conv2D)       (None, 224, 224, 64)      1792      \n",
            "                                                                 \n",
            " block1_conv2 (Conv2D)       (None, 224, 224, 64)      36928     \n",
            "                                                                 \n",
            " block1_pool (MaxPooling2D)  (None, 112, 112, 64)      0         \n",
            "                                                                 \n",
            " block2_conv1 (Conv2D)       (None, 112, 112, 128)     73856     \n",
            "                                                                 \n",
            " block2_conv2 (Conv2D)       (None, 112, 112, 128)     147584    \n",
            "                                                                 \n",
            " block2_pool (MaxPooling2D)  (None, 56, 56, 128)       0         \n",
            "                                                                 \n",
            " block3_conv1 (Conv2D)       (None, 56, 56, 256)       295168    \n",
            "                                                                 \n",
            " block3_conv2 (Conv2D)       (None, 56, 56, 256)       590080    \n",
            "                                                                 \n",
            " block3_conv3 (Conv2D)       (None, 56, 56, 256)       590080    \n",
            "                                                                 \n",
            " block3_pool (MaxPooling2D)  (None, 28, 28, 256)       0         \n",
            "                                                                 \n",
            " block4_conv1 (Conv2D)       (None, 28, 28, 512)       1180160   \n",
            "                                                                 \n",
            " block4_conv2 (Conv2D)       (None, 28, 28, 512)       2359808   \n",
            "                                                                 \n",
            " block4_conv3 (Conv2D)       (None, 28, 28, 512)       2359808   \n",
            "                                                                 \n",
            " block4_pool (MaxPooling2D)  (None, 14, 14, 512)       0         \n",
            "                                                                 \n",
            " block5_conv1 (Conv2D)       (None, 14, 14, 512)       2359808   \n",
            "                                                                 \n",
            " block5_conv2 (Conv2D)       (None, 14, 14, 512)       2359808   \n",
            "                                                                 \n",
            " block5_conv3 (Conv2D)       (None, 14, 14, 512)       2359808   \n",
            "                                                                 \n",
            " block5_pool (MaxPooling2D)  (None, 7, 7, 512)         0         \n",
            "                                                                 \n",
            " flatten (Flatten)           (None, 25088)             0         \n",
            "                                                                 \n",
            " fc1 (Dense)                 (None, 4096)              102764544 \n",
            "                                                                 \n",
            " fc2 (Dense)                 (None, 4096)              16781312  \n",
            "                                                                 \n",
            " predictions (Dense)         (None, 1000)              4097000   \n",
            "                                                                 \n",
            "=================================================================\n",
            "Total params: 138,357,544\n",
            "Trainable params: 138,357,544\n",
            "Non-trainable params: 0\n",
            "_________________________________________________________________\n"
          ]
        }
      ]
    },
    {
      "cell_type": "code",
      "source": [
        "from keras.preprocessing.image import load_img"
      ],
      "metadata": {
        "id": "izJXkMDgvkbA"
      },
      "execution_count": 8,
      "outputs": []
    },
    {
      "cell_type": "code",
      "source": [
        "from keras.preprocessing.image_dataset import load_image\n",
        "image=load_img(path='/content/dog.jpg', target_size=(224,224,3))"
      ],
      "metadata": {
        "id": "Iu1XiLqBv2ri"
      },
      "execution_count": 9,
      "outputs": []
    },
    {
      "cell_type": "code",
      "source": [
        "image"
      ],
      "metadata": {
        "colab": {
          "base_uri": "https://localhost:8080/",
          "height": 241
        },
        "id": "Z-b8odtovz9c",
        "outputId": "aff42da6-e382-4dc2-fbec-2cb4d7c6952d"
      },
      "execution_count": 10,
      "outputs": [
        {
          "output_type": "execute_result",
          "data": {
            "image/png": "[encoded data removed]",
            "text/plain": [
              "<PIL.Image.Image image mode=RGB size=224x224 at 0x7F40ACF79FD0>"
            ]
          },
          "metadata": {},
          "execution_count": 10
        }
      ]
    },
    {
      "cell_type": "code",
      "source": [
        "import numpy as np\n",
        "image=np.reshape(image,newshape=(1,224,224,3))"
      ],
      "metadata": {
        "id": "MIM8HJu1wgKX"
      },
      "execution_count": 11,
      "outputs": []
    },
    {
      "cell_type": "code",
      "source": [
        "image.shape\n",
        "image"
      ],
      "metadata": {
        "colab": {
          "base_uri": "https://localhost:8080/"
        },
        "id": "nRyc3rC6wv8Y",
        "outputId": "35b70817-741a-47fe-c9ef-563e05993165"
      },
      "execution_count": 12,
      "outputs": [
        {
          "output_type": "execute_result",
          "data": {
            "text/plain": [
              "array([[[[255, 255, 255],\n",
              "         [255, 255, 255],\n",
              "         [255, 255, 255],\n",
              "         ...,\n",
              "         [255, 255, 255],\n",
              "         [255, 255, 255],\n",
              "         [255, 255, 255]],\n",
              "\n",
              "        [[255, 255, 255],\n",
              "         [255, 255, 255],\n",
              "         [255, 255, 255],\n",
              "         ...,\n",
              "         [255, 255, 255],\n",
              "         [255, 255, 255],\n",
              "         [255, 255, 255]],\n",
              "\n",
              "        [[255, 255, 255],\n",
              "         [255, 255, 255],\n",
              "         [255, 255, 255],\n",
              "         ...,\n",
              "         [255, 255, 255],\n",
              "         [255, 255, 255],\n",
              "         [255, 255, 255]],\n",
              "\n",
              "        ...,\n",
              "\n",
              "        [[255, 255, 255],\n",
              "         [255, 255, 255],\n",
              "         [255, 255, 255],\n",
              "         ...,\n",
              "         [255, 255, 255],\n",
              "         [255, 255, 255],\n",
              "         [255, 255, 255]],\n",
              "\n",
              "        [[255, 255, 255],\n",
              "         [255, 255, 255],\n",
              "         [255, 255, 255],\n",
              "         ...,\n",
              "         [255, 255, 255],\n",
              "         [255, 255, 255],\n",
              "         [255, 255, 255]],\n",
              "\n",
              "        [[255, 255, 255],\n",
              "         [255, 255, 255],\n",
              "         [255, 255, 255],\n",
              "         ...,\n",
              "         [255, 255, 255],\n",
              "         [255, 255, 255],\n",
              "         [255, 255, 255]]]], dtype=uint8)"
            ]
          },
          "metadata": {},
          "execution_count": 12
        }
      ]
    },
    {
      "cell_type": "code",
      "source": [
        "image=np.array(image)"
      ],
      "metadata": {
        "id": "Hk-edgzEwxyf"
      },
      "execution_count": 33,
      "outputs": []
    },
    {
      "cell_type": "code",
      "source": [
        "from keras.applications.imagenet_utils import preprocess_input"
      ],
      "metadata": {
        "id": "FCny5lN1xGOG"
      },
      "execution_count": 13,
      "outputs": []
    },
    {
      "cell_type": "code",
      "source": [
        "image=preprocess_input(image)"
      ],
      "metadata": {
        "id": "QkCSgWJxxntb"
      },
      "execution_count": 14,
      "outputs": []
    },
    {
      "cell_type": "code",
      "source": [
        "y_pred=model.predict(image)\n"
      ],
      "metadata": {
        "id": "Hw8cJA7yxzHj"
      },
      "execution_count": 15,
      "outputs": []
    },
    {
      "cell_type": "code",
      "source": [
        "y_pred\n"
      ],
      "metadata": {
        "colab": {
          "base_uri": "https://localhost:8080/"
        },
        "id": "--B4YADqx7v0",
        "outputId": "3c27f3e2-1bde-4816-ee66-e9ecf84a87cc"
      },
      "execution_count": 37,
      "outputs": [
        {
          "output_type": "execute_result",
          "data": {
            "text/plain": [
              "array([[7.66271703e-13, 1.04757357e-11, 1.22454607e-11, 5.76345482e-12,\n",
              "        9.23916325e-12, 2.53838443e-12, 5.73229452e-13, 2.98801851e-11,\n",
              "        1.69743421e-11, 1.68249952e-12, 1.00873665e-09, 5.31810013e-11,\n",
              "        1.00060939e-10, 3.96549016e-09, 2.32624562e-11, 3.90065029e-11,\n",
              "        4.80795181e-10, 1.10809184e-09, 2.38437575e-10, 3.83123117e-10,\n",
              "        3.97132986e-11, 1.36394229e-11, 7.21804777e-13, 2.46411291e-09,\n",
              "        4.56499443e-08, 3.85950863e-12, 1.03645911e-12, 1.89681929e-12,\n",
              "        3.37475122e-12, 9.62362395e-12, 2.87120432e-11, 1.65890177e-10,\n",
              "        4.47444720e-11, 2.27935670e-10, 5.12733278e-09, 5.95700919e-12,\n",
              "        2.35659658e-10, 7.13144613e-11, 8.81703460e-11, 1.97161953e-09,\n",
              "        1.35070344e-10, 5.02877046e-11, 6.31584576e-11, 3.70159459e-11,\n",
              "        1.64667016e-10, 1.48948684e-08, 2.64622935e-10, 1.33708578e-09,\n",
              "        1.03130934e-10, 4.64371423e-12, 1.75437893e-11, 1.50523660e-09,\n",
              "        2.43691282e-11, 1.22744341e-11, 5.58225757e-11, 2.28176440e-12,\n",
              "        7.46295040e-11, 2.84029067e-13, 2.47543370e-12, 6.28398429e-13,\n",
              "        1.26204689e-11, 2.40303853e-11, 1.82054176e-12, 5.26097438e-12,\n",
              "        6.55749890e-12, 2.26067957e-13, 3.00751021e-11, 2.32914604e-10,\n",
              "        2.85318752e-12, 4.39901754e-10, 1.00491612e-11, 5.52758637e-11,\n",
              "        4.39505654e-11, 1.15983743e-10, 7.10067699e-11, 2.84099011e-09,\n",
              "        1.21157997e-11, 2.91080798e-10, 1.71984996e-10, 3.58179241e-12,\n",
              "        1.61395480e-11, 1.13819687e-09, 1.58457539e-10, 1.21428900e-11,\n",
              "        1.34606328e-11, 3.11616538e-10, 7.37503780e-10, 5.23862298e-07,\n",
              "        1.51692658e-09, 3.97452823e-07, 3.76831705e-10, 8.40269152e-14,\n",
              "        6.40141369e-13, 3.90637230e-13, 6.25349272e-10, 1.84718061e-12,\n",
              "        1.30729464e-11, 5.72209467e-12, 4.80725052e-12, 1.30138114e-11,\n",
              "        1.10975693e-12, 3.97912215e-12, 1.85358304e-12, 2.86965091e-10,\n",
              "        3.11040325e-11, 2.56055710e-09, 8.47977730e-11, 2.55987804e-13,\n",
              "        1.60685538e-12, 1.64866912e-10, 1.97380241e-12, 2.56966587e-10,\n",
              "        4.64341815e-10, 8.09314560e-10, 2.21066582e-10, 6.46086049e-12,\n",
              "        2.07952470e-12, 3.00319387e-11, 9.72691112e-12, 1.41965051e-11,\n",
              "        7.70423916e-12, 4.75580512e-12, 5.74353716e-12, 4.19490224e-12,\n",
              "        4.11997866e-11, 1.95053362e-10, 4.25278229e-10, 1.05965855e-12,\n",
              "        7.77405484e-13, 8.95647532e-12, 1.06531329e-11, 1.04443418e-13,\n",
              "        1.01382264e-10, 1.00355369e-12, 7.46311780e-12, 8.16891924e-14,\n",
              "        9.20419123e-13, 6.96258979e-12, 1.93665691e-11, 4.05022349e-10,\n",
              "        2.45293612e-11, 3.46955485e-11, 1.32384978e-12, 7.91151346e-12,\n",
              "        4.03724797e-11, 1.92907645e-08, 2.51495130e-10, 1.64299477e-12,\n",
              "        3.77830970e-12, 4.10947970e-10, 2.71341977e-10, 3.23186640e-07,\n",
              "        1.38613707e-08, 3.40589459e-08, 3.76029931e-07, 3.98663633e-06,\n",
              "        8.02203581e-10, 8.05346345e-10, 1.35517450e-06, 1.02877591e-08,\n",
              "        1.65844454e-12, 1.04919629e-09, 7.38132186e-08, 2.73165845e-09,\n",
              "        3.05218151e-07, 6.14622797e-10, 2.09769038e-08, 1.91153871e-09,\n",
              "        2.00483874e-09, 2.47347431e-09, 6.13114726e-10, 3.30852686e-07,\n",
              "        6.33478749e-07, 2.19303242e-09, 1.94924610e-07, 6.94220766e-12,\n",
              "        5.00675786e-11, 1.68942790e-10, 1.92112424e-07, 3.69911618e-06,\n",
              "        4.52498085e-07, 2.85397334e-07, 4.94864537e-07, 1.66585858e-06,\n",
              "        7.12589188e-09, 1.29761055e-08, 1.48690518e-10, 1.82293514e-09,\n",
              "        2.14986198e-08, 2.88096764e-08, 3.66681654e-08, 5.06257436e-09,\n",
              "        2.20727925e-09, 2.81680634e-09, 3.64854325e-09, 1.18956283e-04,\n",
              "        8.33268459e-08, 1.10891278e-08, 2.52000039e-08, 5.28284708e-11,\n",
              "        1.25086375e-09, 8.70196928e-08, 7.58064544e-08, 3.95776606e-10,\n",
              "        1.08089887e-06, 7.38215530e-11, 1.88077243e-09, 5.93368854e-10,\n",
              "        8.54304176e-07, 3.99662667e-07, 2.82241697e-08, 1.35089739e-09,\n",
              "        5.68820324e-10, 5.68831700e-12, 4.69159572e-11, 1.53027777e-08,\n",
              "        2.42030462e-09, 1.34445832e-09, 3.74589942e-11, 6.52161991e-10,\n",
              "        8.82889872e-11, 1.41514101e-11, 1.12294769e-08, 2.08092724e-10,\n",
              "        1.48226605e-11, 7.64562191e-09, 2.63279103e-11, 1.73017795e-10,\n",
              "        2.14198465e-10, 3.70858788e-09, 1.22132068e-10, 2.66963562e-10,\n",
              "        6.77337075e-10, 8.46340065e-09, 8.29247160e-09, 2.03813166e-09,\n",
              "        2.33775022e-09, 1.91353511e-08, 4.11668388e-09, 1.25322086e-09,\n",
              "        6.86877333e-10, 5.94582272e-10, 1.53740530e-03, 6.79782068e-04,\n",
              "        1.02570862e-10, 5.44747047e-04, 1.65067047e-06, 6.60670639e-06,\n",
              "        6.31784003e-09, 3.45404011e-10, 3.86324883e-09, 2.91183005e-06,\n",
              "        5.56273827e-09, 4.16206491e-09, 9.96171772e-01, 1.80411917e-08,\n",
              "        2.69735623e-10, 1.66276486e-08, 1.24027205e-10, 1.10305570e-10,\n",
              "        7.86649967e-10, 1.64645991e-10, 2.24919518e-06, 2.50288106e-11,\n",
              "        5.64363889e-09, 4.21678067e-07, 1.01696296e-08, 8.05773936e-09,\n",
              "        9.66841984e-09, 3.12538398e-11, 1.93612886e-11, 1.32699461e-12,\n",
              "        1.18181064e-11, 2.13077903e-10, 8.84984157e-14, 2.24533933e-12,\n",
              "        1.73777381e-11, 1.83049994e-12, 1.27266524e-12, 1.86065496e-10,\n",
              "        1.12828269e-12, 2.63270977e-06, 4.18911583e-07, 3.11257908e-09,\n",
              "        2.30933637e-07, 5.05461969e-07, 2.33787056e-09, 2.26012148e-07,\n",
              "        1.69520897e-10, 2.98977593e-10, 4.45983916e-09, 4.78134685e-11,\n",
              "        3.68777897e-09, 5.02830035e-11, 9.73405167e-13, 1.31204010e-12,\n",
              "        4.92262009e-09, 2.41878566e-13, 3.57282370e-10, 4.07997358e-10,\n",
              "        4.04649708e-12, 3.34479000e-10, 7.47055542e-11, 4.19018042e-10,\n",
              "        2.95177667e-11, 3.21622173e-11, 4.76965356e-10, 8.29709190e-09,\n",
              "        1.02356135e-09, 5.06338305e-10, 2.17371260e-10, 1.50749122e-10,\n",
              "        2.23683114e-10, 1.00203700e-12, 7.74617731e-11, 3.37803743e-11,\n",
              "        1.74724693e-10, 3.77219653e-12, 9.76960179e-12, 9.04238663e-12,\n",
              "        1.02557839e-12, 2.32610806e-11, 1.77490238e-12, 6.86710281e-12,\n",
              "        7.42585941e-12, 7.06569135e-13, 8.04713310e-11, 9.58856439e-10,\n",
              "        2.81565951e-11, 1.69556053e-11, 1.42658718e-09, 3.32498917e-10,\n",
              "        6.46946108e-10, 1.20228036e-10, 6.66768480e-14, 9.16448428e-12,\n",
              "        1.22534676e-12, 2.12558096e-12, 2.37093616e-08, 4.47150522e-14,\n",
              "        1.09396249e-10, 1.04538392e-11, 1.40873890e-12, 3.23679804e-13,\n",
              "        4.87159531e-12, 1.16928368e-11, 6.25284804e-14, 5.17565765e-12,\n",
              "        7.19349913e-10, 1.89215787e-12, 4.57364788e-12, 9.76315925e-15,\n",
              "        8.78385228e-14, 6.53417316e-13, 4.04645310e-11, 1.20861016e-10,\n",
              "        1.74940784e-10, 6.04348585e-11, 9.16740382e-12, 6.27603802e-11,\n",
              "        1.26982980e-10, 2.03104634e-12, 1.30969055e-11, 4.00411128e-11,\n",
              "        5.98589320e-12, 3.05451046e-11, 9.18321183e-11, 1.10104412e-10,\n",
              "        3.56142546e-11, 7.66867212e-12, 7.69107722e-10, 3.78398042e-11,\n",
              "        7.54108310e-13, 3.42406173e-11, 1.64599264e-13, 1.19123591e-12,\n",
              "        1.78375422e-11, 6.21260474e-11, 8.85383021e-13, 1.60771982e-12,\n",
              "        1.14211773e-09, 2.31004864e-12, 1.08293867e-10, 6.12292050e-10,\n",
              "        5.78014685e-11, 5.13506911e-11, 4.20108349e-12, 1.39117125e-13,\n",
              "        2.63514714e-11, 2.03659867e-11, 4.77596018e-11, 3.38759465e-10,\n",
              "        7.57438730e-12, 2.64917081e-12, 3.35987176e-11, 1.51513229e-11,\n",
              "        1.11173148e-12, 2.68854088e-11, 7.75765852e-09, 1.14218919e-10,\n",
              "        3.75295073e-11, 2.13036436e-10, 2.85294566e-10, 1.06572921e-12,\n",
              "        2.48825405e-11, 4.83049538e-12, 9.33439298e-11, 4.18726035e-12,\n",
              "        1.71045285e-12, 4.19103557e-10, 5.84034557e-11, 1.25445068e-08,\n",
              "        1.02381970e-08, 1.24015853e-10, 5.42209611e-09, 8.43076997e-10,\n",
              "        5.04293602e-08, 1.43984791e-09, 8.18917378e-09, 1.65789729e-08,\n",
              "        2.53778309e-09, 2.58326960e-09, 1.21527108e-08, 1.76947484e-11,\n",
              "        2.09146006e-10, 4.86324913e-12, 9.71907554e-10, 3.15878013e-09,\n",
              "        8.31571978e-10, 2.73168030e-08, 1.13252269e-10, 8.02040674e-08,\n",
              "        1.01341859e-10, 5.15185006e-09, 3.37805890e-04, 1.13935967e-04,\n",
              "        1.88357338e-12, 7.68456632e-10, 5.76661663e-10, 2.43085825e-12,\n",
              "        2.16634100e-10, 1.26067434e-09, 6.05413939e-13, 2.05294288e-08,\n",
              "        1.13696118e-11, 3.54842267e-10, 1.23502986e-09, 2.08405950e-08,\n",
              "        2.24362386e-11, 8.81705895e-13, 1.61184079e-08, 8.47091772e-11,\n",
              "        1.95727480e-07, 2.61855213e-08, 2.94010760e-10, 5.44196521e-10,\n",
              "        1.83979165e-10, 7.47568120e-05, 5.72911926e-11, 2.51580765e-08,\n",
              "        3.21190019e-11, 1.47436974e-09, 1.59739028e-10, 1.76954927e-05,\n",
              "        1.56492774e-08, 4.59206770e-11, 8.98260424e-11, 1.02271152e-11,\n",
              "        2.26345574e-11, 4.25182982e-08, 6.57390142e-09, 2.20004473e-10,\n",
              "        8.72069257e-12, 6.31679153e-09, 4.30221974e-08, 2.22940799e-09,\n",
              "        2.34118714e-12, 6.63757174e-11, 1.83162125e-08, 1.44398556e-11,\n",
              "        7.23616861e-11, 7.85751395e-11, 1.40409762e-09, 5.91551200e-12,\n",
              "        4.10867607e-12, 1.13725518e-09, 1.71016343e-11, 4.01843803e-09,\n",
              "        2.45401838e-10, 1.75811050e-11, 6.01945660e-10, 1.19305321e-11,\n",
              "        2.60441835e-10, 6.31017461e-11, 1.16042606e-10, 3.80772011e-11,\n",
              "        7.31613099e-08, 3.30355743e-11, 7.39184894e-11, 6.87870161e-09,\n",
              "        3.19166927e-14, 4.26558788e-09, 2.35138531e-09, 6.05767214e-10,\n",
              "        5.09036852e-07, 9.60504920e-08, 8.07753864e-10, 1.01234541e-08,\n",
              "        9.16178866e-09, 6.70590276e-12, 2.84181081e-11, 2.57045730e-12,\n",
              "        2.31647063e-10, 2.52834115e-10, 3.79016540e-10, 4.20736068e-09,\n",
              "        7.62859784e-08, 1.70116893e-10, 1.17320607e-08, 8.68435102e-10,\n",
              "        8.48092228e-08, 2.03264818e-07, 1.20429777e-10, 4.04451272e-09,\n",
              "        2.97935669e-11, 3.67826863e-12, 4.63506483e-10, 1.94736760e-09,\n",
              "        1.09219862e-10, 4.99988495e-08, 2.36228509e-10, 1.44530143e-09,\n",
              "        2.94605070e-11, 1.49637414e-09, 7.86904479e-08, 1.92136966e-11,\n",
              "        1.17786128e-11, 1.62524230e-11, 2.93324870e-12, 3.48060318e-08,\n",
              "        2.66258977e-12, 1.64487235e-09, 2.61048356e-08, 3.46485706e-07,\n",
              "        1.52189608e-10, 1.18797949e-09, 5.61432623e-10, 3.15165401e-13,\n",
              "        1.97790465e-10, 4.05231937e-09, 4.26486124e-10, 2.96593222e-10,\n",
              "        9.49282111e-08, 4.58855870e-10, 1.07932942e-11, 1.31280620e-12,\n",
              "        1.19451338e-10, 1.54538479e-10, 7.58021812e-10, 3.18839594e-10,\n",
              "        1.93380654e-08, 7.47689584e-12, 1.36812228e-10, 1.22874627e-10,\n",
              "        5.97183858e-10, 4.33116182e-11, 5.64365832e-10, 1.20637900e-09,\n",
              "        8.83797213e-09, 3.42114856e-12, 5.33723494e-07, 6.41004611e-11,\n",
              "        2.56503121e-08, 3.25369159e-12, 1.77909190e-08, 1.66332711e-11,\n",
              "        7.69149067e-13, 2.81087844e-11, 1.10885567e-08, 5.23281807e-10,\n",
              "        2.84379516e-11, 2.54047339e-11, 2.03558108e-11, 1.30774169e-10,\n",
              "        3.75366155e-10, 5.37448253e-10, 2.59021255e-12, 6.99094471e-07,\n",
              "        1.28004922e-08, 6.24309493e-08, 3.02215780e-10, 5.37176970e-09,\n",
              "        1.08424840e-11, 1.10632268e-08, 8.88892952e-12, 7.81814392e-13,\n",
              "        1.54754858e-08, 1.14323256e-11, 1.52841872e-09, 3.36939088e-10,\n",
              "        2.95281151e-08, 2.77452217e-09, 2.48449243e-08, 9.37476008e-13,\n",
              "        6.21580842e-10, 1.50687196e-08, 3.99280751e-08, 5.54670532e-10,\n",
              "        1.55655684e-08, 5.20678498e-13, 5.71005891e-08, 4.04805522e-09,\n",
              "        1.98759542e-12, 2.39967796e-10, 4.75867967e-09, 1.02639266e-08,\n",
              "        1.27166819e-08, 2.97946361e-08, 2.10059614e-09, 2.70900244e-07,\n",
              "        1.02376294e-08, 1.06132041e-10, 8.03233249e-08, 2.51155008e-08,\n",
              "        7.06874892e-10, 1.25044202e-12, 1.60296807e-08, 1.33444156e-12,\n",
              "        6.67157579e-11, 8.29950997e-10, 2.10538739e-11, 1.62021223e-08,\n",
              "        1.46627972e-08, 4.66363531e-07, 5.98810498e-13, 2.91310170e-10,\n",
              "        6.30892938e-09, 3.51818352e-10, 1.86811739e-08, 3.77348996e-09,\n",
              "        1.07849341e-12, 1.00343129e-08, 4.59785460e-10, 2.35069251e-07,\n",
              "        4.89239795e-08, 1.62971774e-12, 2.98457953e-10, 2.00051842e-09,\n",
              "        9.78419834e-09, 5.20748288e-12, 4.08918623e-08, 1.03077351e-08,\n",
              "        1.67026080e-11, 3.09871018e-10, 2.44300951e-11, 2.79170381e-10,\n",
              "        4.00143720e-12, 6.01646640e-12, 8.65748859e-07, 4.77252549e-08,\n",
              "        1.68415403e-11, 2.64928081e-13, 2.24568864e-10, 1.32834195e-12,\n",
              "        1.01237436e-08, 1.26239592e-11, 1.53188751e-07, 3.76059317e-09,\n",
              "        3.40908508e-12, 4.46641751e-10, 8.92780919e-11, 1.46521163e-12,\n",
              "        7.06357932e-12, 2.46698750e-08, 2.01912598e-09, 2.35355433e-11,\n",
              "        1.55058740e-06, 4.68728723e-10, 5.66299789e-08, 3.94529992e-10,\n",
              "        4.90791985e-09, 2.88172632e-08, 2.79290601e-11, 1.96786906e-10,\n",
              "        1.69669376e-10, 4.65759896e-11, 2.04773687e-09, 2.10491763e-11,\n",
              "        2.59786942e-10, 7.10630221e-10, 1.82064175e-13, 8.93788865e-09,\n",
              "        1.10420411e-08, 2.01850758e-11, 3.45053370e-12, 2.54375854e-09,\n",
              "        1.32366065e-08, 1.43976635e-08, 1.00070191e-12, 1.12591103e-09,\n",
              "        5.18932666e-07, 1.99141884e-10, 7.11565491e-08, 2.19389742e-10,\n",
              "        2.82724888e-09, 2.16127585e-11, 2.55138948e-11, 6.49362716e-11,\n",
              "        2.62837330e-09, 4.88376486e-08, 3.08753201e-09, 2.13903428e-09,\n",
              "        1.67248687e-10, 1.77356740e-10, 1.13458434e-08, 2.88601066e-12,\n",
              "        6.70209832e-10, 1.61106434e-10, 2.67353743e-11, 2.03102815e-07,\n",
              "        5.99328231e-09, 1.08190250e-06, 3.02259377e-06, 5.64720049e-10,\n",
              "        1.01981106e-11, 1.61556258e-07, 8.78360590e-13, 6.46179985e-11,\n",
              "        1.82036587e-07, 3.51770235e-09, 1.42224069e-12, 5.28631254e-08,\n",
              "        1.00815631e-08, 1.45986974e-08, 1.72699116e-12, 1.15580789e-09,\n",
              "        2.61734158e-06, 1.05706632e-09, 1.19056087e-09, 3.32040062e-10,\n",
              "        6.51295951e-09, 5.70915226e-09, 2.33893238e-09, 8.67832362e-10,\n",
              "        1.33036845e-11, 7.29558725e-09, 1.42749430e-08, 4.43646542e-09,\n",
              "        5.20726502e-08, 7.19050514e-11, 1.13271888e-07, 1.24715028e-12,\n",
              "        4.18523838e-09, 2.78476534e-07, 6.58600019e-09, 7.93172993e-12,\n",
              "        2.07195691e-10, 2.60126452e-11, 8.54045901e-09, 3.11279429e-08,\n",
              "        2.11844281e-07, 2.25466952e-08, 1.89998486e-11, 2.68523703e-10,\n",
              "        1.56730073e-10, 2.42786040e-08, 1.18301497e-11, 1.17270780e-07,\n",
              "        3.13004622e-09, 1.41151290e-07, 1.47667265e-08, 6.21992724e-09,\n",
              "        9.64261337e-10, 4.44847615e-07, 3.63855529e-10, 2.99018088e-10,\n",
              "        1.45771398e-11, 3.48068108e-09, 1.12970988e-09, 4.78889498e-11,\n",
              "        2.00500103e-11, 2.14985842e-11, 2.60742326e-08, 1.58395750e-08,\n",
              "        7.72549846e-09, 4.54183555e-06, 2.17514557e-08, 2.22451807e-10,\n",
              "        8.60231331e-11, 2.60896513e-08, 1.20335009e-09, 1.09130860e-06,\n",
              "        4.80414153e-09, 4.31649278e-06, 2.15458783e-07, 4.71454653e-09,\n",
              "        2.08859910e-05, 3.02278345e-08, 7.82733212e-10, 8.91862362e-10,\n",
              "        2.13130121e-12, 1.93902094e-09, 1.96585977e-12, 1.08462484e-11,\n",
              "        1.46374319e-07, 1.20803463e-07, 2.26863108e-06, 7.15879016e-13,\n",
              "        2.87532692e-10, 1.35734988e-08, 2.18218399e-09, 1.59579167e-06,\n",
              "        1.00648318e-11, 7.27023597e-09, 7.38022230e-12, 1.26465409e-11,\n",
              "        1.73556958e-09, 2.94211855e-12, 1.57303376e-07, 1.62728428e-10,\n",
              "        4.27087890e-13, 1.12853227e-12, 2.28627117e-10, 9.16729448e-09,\n",
              "        1.54082134e-08, 1.29335551e-12, 3.32422334e-09, 2.77914070e-09,\n",
              "        2.69513745e-08, 8.23156907e-12, 1.06029308e-09, 7.50988320e-08,\n",
              "        8.00793667e-11, 1.21531203e-13, 1.25197619e-09, 7.33188770e-12,\n",
              "        3.60427293e-07, 1.16868239e-06, 2.46009790e-09, 5.98248827e-13,\n",
              "        2.25707566e-07, 4.83142912e-07, 2.39042408e-09, 8.77612913e-11,\n",
              "        4.05068112e-09, 7.63258541e-08, 2.70657878e-08, 4.08157096e-13,\n",
              "        7.68660358e-10, 1.99822772e-08, 5.84203954e-05, 1.16842443e-07,\n",
              "        6.03694280e-05, 1.83115567e-13, 5.54303548e-10, 6.97008460e-08,\n",
              "        1.91407762e-13, 8.23526317e-11, 6.51692545e-12, 8.91194958e-08,\n",
              "        9.34777325e-11, 7.65229373e-08, 5.46394441e-09, 1.33912936e-10,\n",
              "        2.59693547e-12, 3.89802146e-09, 1.03747116e-13, 3.08970280e-11,\n",
              "        9.54961665e-10, 4.57210853e-10, 7.68074104e-10, 1.50999037e-12,\n",
              "        9.01271946e-08, 1.48237065e-11, 8.49929610e-13, 2.30268565e-11,\n",
              "        1.21357793e-04, 2.08143849e-11, 1.03496274e-10, 4.35856129e-10,\n",
              "        1.38400819e-11, 1.58182963e-11, 3.57286147e-08, 4.99930337e-08,\n",
              "        9.35925274e-13, 1.16896892e-08, 8.92898464e-11, 7.29218561e-11,\n",
              "        1.02965677e-13, 3.30953154e-10, 2.39379905e-10, 5.59777646e-09,\n",
              "        6.94909130e-10, 4.38112324e-10, 9.70607594e-09, 1.32021937e-11,\n",
              "        1.67254669e-07, 2.62873669e-07, 1.50388090e-07, 1.26303119e-08,\n",
              "        7.99742383e-10, 1.40303671e-10, 1.13840981e-09, 1.88690596e-09,\n",
              "        1.02042885e-09, 1.65394221e-09, 1.03604023e-08, 3.35506428e-10,\n",
              "        3.82817597e-11, 3.20469346e-10, 1.43256827e-07, 8.12402376e-08,\n",
              "        1.55041778e-11, 1.22081175e-12, 9.63879259e-13, 1.01247318e-11,\n",
              "        7.02030079e-09, 6.61241617e-10, 2.69745168e-08, 1.58521547e-11,\n",
              "        2.86624717e-11, 7.10260739e-09, 3.26451116e-10, 1.05033160e-09,\n",
              "        8.19105617e-11, 7.54675974e-11, 1.68832136e-12, 1.22791222e-10,\n",
              "        1.48335726e-08, 4.08007104e-08, 6.30390670e-11, 4.46147896e-10,\n",
              "        7.34088901e-11, 2.88952251e-10, 2.10942908e-09, 1.56857471e-10,\n",
              "        7.00892122e-11, 1.91079402e-10, 2.17552518e-10, 2.55919841e-10,\n",
              "        3.02684058e-11, 8.04230016e-11, 1.53188531e-10, 1.34976284e-11,\n",
              "        1.80556134e-12, 1.07763500e-10, 3.91193452e-13, 1.16966740e-11,\n",
              "        4.11944079e-09, 1.38841924e-10, 1.09983989e-09, 5.49347290e-10,\n",
              "        5.99763225e-11, 1.78557974e-10, 6.93733426e-09, 5.37340842e-13,\n",
              "        1.69280839e-10, 6.37027930e-10, 1.97550205e-11, 1.05996302e-10,\n",
              "        3.97911870e-10, 5.44542544e-09, 3.49878217e-11, 2.03278089e-10,\n",
              "        6.89741597e-11, 1.99060075e-08, 8.28374203e-10, 6.39631326e-09,\n",
              "        6.08224673e-06, 3.74477976e-10, 4.30559546e-11, 3.31204508e-10,\n",
              "        5.05119471e-12, 1.87809646e-11, 1.09039548e-11, 1.55325557e-12,\n",
              "        1.28436125e-11, 9.23157592e-11, 1.42732132e-10, 5.57773635e-14,\n",
              "        3.24066642e-12, 8.15511214e-10, 4.74848605e-10, 6.96370878e-11,\n",
              "        1.34019670e-11, 1.72107311e-11, 1.60703005e-12, 1.54390656e-09,\n",
              "        1.89580018e-11, 3.54361374e-10, 1.91502825e-12, 3.78619255e-13,\n",
              "        1.76467771e-12, 3.44096453e-12, 5.38471785e-12, 1.56947476e-11,\n",
              "        3.32437680e-12, 1.92211535e-13, 1.70520362e-10, 6.32252413e-05]],\n",
              "      dtype=float32)"
            ]
          },
          "metadata": {},
          "execution_count": 37
        }
      ]
    },
    {
      "cell_type": "code",
      "source": [
        "from keras.applications.vgg16 import decode_predictions"
      ],
      "metadata": {
        "id": "HLGzLCY7yUpl"
      },
      "execution_count": 17,
      "outputs": []
    },
    {
      "cell_type": "code",
      "source": [
        "decode_predictions(y_pred)"
      ],
      "metadata": {
        "colab": {
          "base_uri": "https://localhost:8080/"
        },
        "id": "8i0d6b7FysNk",
        "outputId": "7c9c82e1-a9eb-42f0-ebf1-1edb2b61bd97"
      },
      "execution_count": 18,
      "outputs": [
        {
          "output_type": "stream",
          "name": "stdout",
          "text": [
            "Downloading data from https://storage.googleapis.com/download.tensorflow.org/data/imagenet_class_index.json\n",
            "40960/35363 [==================================] - 0s 0us/step\n",
            "49152/35363 [=========================================] - 0s 0us/step\n"
          ]
        },
        {
          "output_type": "execute_result",
          "data": {
            "text/plain": [
              "[[('n02110958', 'pug', 0.88770735),\n",
              "  ('n02108422', 'bull_mastiff', 0.10351024),\n",
              "  ('n04409515', 'tennis_ball', 0.0017981936),\n",
              "  ('n04493381', 'tub', 0.0010893831),\n",
              "  ('n15075141', 'toilet_tissue', 0.0009875781)]]"
            ]
          },
          "metadata": {},
          "execution_count": 18
        }
      ]
    },
    {
      "cell_type": "code",
      "source": [
        ""
      ],
      "metadata": {
        "id": "RuBHXtr_yvqj"
      },
      "execution_count": null,
      "outputs": []
    }
  ]
}